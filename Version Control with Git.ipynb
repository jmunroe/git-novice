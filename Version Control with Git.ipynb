{
 "cells": [
  {
   "cell_type": "markdown",
   "metadata": {
    "deletable": true,
    "editable": true,
    "slideshow": {
     "slide_type": "slide"
    }
   },
   "source": [
    "# Version Control with Git\n",
    "\n",
    "James Munroe, March 23, 2017\n",
    "\n",
    "##### Adapted from http://swcarpentry.github.io/git-novice/"
   ]
  },
  {
   "cell_type": "markdown",
   "metadata": {
    "slideshow": {
     "slide_type": "slide"
    }
   },
   "source": [
    "# 1. Automated Version Control\n",
    "\n",
    "- *What is version control and why should I use it?*"
   ]
  },
  {
   "cell_type": "markdown",
   "metadata": {
    "collapsed": true,
    "deletable": true,
    "editable": true,
    "slideshow": {
     "slide_type": "subslide"
    }
   },
   "source": [
    "![](http://swcarpentry.github.io/git-novice/fig/phd101212s.png)"
   ]
  },
  {
   "cell_type": "markdown",
   "metadata": {
    "slideshow": {
     "slide_type": "subslide"
    }
   },
   "source": [
    "### Version control tracks *changes*\n",
    "![](http://swcarpentry.github.io/git-novice/fig/play-changes.svg)"
   ]
  },
  {
   "cell_type": "markdown",
   "metadata": {
    "slideshow": {
     "slide_type": "subslide"
    }
   },
   "source": [
    "### Changes are independent from the document itself\n",
    "![](http://swcarpentry.github.io/git-novice/fig/versions.svg)"
   ]
  },
  {
   "cell_type": "markdown",
   "metadata": {
    "slideshow": {
     "slide_type": "subslide"
    }
   },
   "source": [
    "### Sets of changes can be applied to the same base document\n",
    "![](http://swcarpentry.github.io/git-novice/fig/merge.svg)"
   ]
  },
  {
   "cell_type": "markdown",
   "metadata": {
    "slideshow": {
     "slide_type": "subslide"
    }
   },
   "source": [
    "## Keypoints\n",
    "- Version control is like an unlimited ‘undo’.\n",
    "- Version control also allows many people to work in parallel."
   ]
  },
  {
   "cell_type": "markdown",
   "metadata": {
    "slideshow": {
     "slide_type": "slide"
    }
   },
   "source": [
    "# 2. Setting Up Git\n",
    "\n",
    "- *How do I get set up to use Git?*"
   ]
  },
  {
   "cell_type": "markdown",
   "metadata": {
    "slideshow": {
     "slide_type": "subslide"
    }
   },
   "source": [
    "### *Exercise*\n",
    "\n",
    "`git config`"
   ]
  },
  {
   "cell_type": "markdown",
   "metadata": {
    "slideshow": {
     "slide_type": "subslide"
    }
   },
   "source": [
    "## Keypoints\n",
    "\n",
    "- Use `git config` to configure a user name, email address, editor, and other preferences once per machine."
   ]
  },
  {
   "cell_type": "markdown",
   "metadata": {
    "slideshow": {
     "slide_type": "slide"
    }
   },
   "source": [
    "# 3. Creating a Repository\n",
    "\n",
    "- *Where does Git store information?*"
   ]
  },
  {
   "cell_type": "markdown",
   "metadata": {
    "slideshow": {
     "slide_type": "subslide"
    }
   },
   "source": [
    "### *Exercise*\n",
    "`git init`\n",
    "\n",
    "`git status`"
   ]
  },
  {
   "cell_type": "markdown",
   "metadata": {
    "slideshow": {
     "slide_type": "subslide"
    }
   },
   "source": [
    "## Keypoints\n",
    "\n",
    "- `git init` initializes a repository"
   ]
  },
  {
   "cell_type": "markdown",
   "metadata": {
    "slideshow": {
     "slide_type": "slide"
    }
   },
   "source": [
    "# 4. Tracking Changes\n",
    "\n",
    "- *How do I record changes in Git?*\n",
    "- *How do I check the status of my version control repository?*\n",
    "- *How do I record notes about what changes I made and why?*"
   ]
  },
  {
   "cell_type": "markdown",
   "metadata": {
    "slideshow": {
     "slide_type": "subslide"
    }
   },
   "source": [
    "### *Exercise*\n",
    "\n",
    "`git add`\n",
    "\n",
    "`git commit`\n",
    "\n",
    "`git log`\n",
    "\n",
    "`git diff`"
   ]
  },
  {
   "cell_type": "markdown",
   "metadata": {
    "slideshow": {
     "slide_type": "subslide"
    }
   },
   "source": [
    "### Staging area\n",
    "\n",
    "![](http://swcarpentry.github.io/git-novice/fig/git-staging-area.svg)"
   ]
  },
  {
   "cell_type": "markdown",
   "metadata": {
    "slideshow": {
     "slide_type": "subslide"
    }
   },
   "source": [
    "### *Exercise*\n",
    "\n",
    "`git add`\n",
    "\n",
    "`git commit`\n",
    "\n",
    "`git log`\n",
    "\n",
    "`git diff`"
   ]
  },
  {
   "cell_type": "markdown",
   "metadata": {
    "slideshow": {
     "slide_type": "subslide"
    }
   },
   "source": [
    "### Adding files\n",
    "\n",
    "![](http://swcarpentry.github.io/git-novice/fig/git-committing.svg)"
   ]
  },
  {
   "cell_type": "markdown",
   "metadata": {
    "slideshow": {
     "slide_type": "subslide"
    }
   },
   "source": [
    "### Keypoints\n",
    "\n",
    "- `git status` shows the status of a repository.\n",
    "- Files can be stored in a project’s working directory (which users see), the staging area (where the next commit is being built up) and the local repository (where commits are permanently recorded).\n",
    "- `git add` puts files in the staging area.\n",
    "- `git commit` saves the staged content as a new commit in the local repository.\n",
    "- Always write a log message when committing changes."
   ]
  },
  {
   "cell_type": "markdown",
   "metadata": {
    "slideshow": {
     "slide_type": "slide"
    }
   },
   "source": [
    "# 5. Remotes in GitHub\n",
    "\n",
    "- *How do I share my changes with others?*"
   ]
  },
  {
   "cell_type": "markdown",
   "metadata": {
    "slideshow": {
     "slide_type": "subslide"
    }
   },
   "source": [
    "### *Exercise*\n",
    "\n",
    "Create a repository on [GitHub](http://github.com/)\n",
    "\n"
   ]
  },
  {
   "cell_type": "markdown",
   "metadata": {
    "slideshow": {
     "slide_type": "subslide"
    }
   },
   "source": [
    "### Local vs Remote repository after init\n",
    "\n",
    "![](http://swcarpentry.github.io/git-novice/fig/git-freshly-made-github-repo.svg)"
   ]
  },
  {
   "cell_type": "markdown",
   "metadata": {
    "slideshow": {
     "slide_type": "subslide"
    }
   },
   "source": [
    "### *Exercise*\n",
    "\n",
    "`git remote`\n",
    "\n",
    "`git push`\n",
    "\n",
    "`git pull`"
   ]
  },
  {
   "cell_type": "markdown",
   "metadata": {
    "slideshow": {
     "slide_type": "subslide"
    }
   },
   "source": [
    " ### Local vs Remote repository after push\n",
    " \n",
    " ![](http://swcarpentry.github.io/git-novice/fig/github-repo-after-first-push.svg)"
   ]
  },
  {
   "cell_type": "markdown",
   "metadata": {
    "slideshow": {
     "slide_type": "subslide"
    }
   },
   "source": [
    "### Keypoints\n",
    "\n",
    "- A local Git repository can be connected to one or more remote repositories.\n",
    "- Use the HTTPS protocol to connect to remote repositories until you have learned how to set up SSH.\n",
    "- `git push` copies changes from a local repository to a remote repository.\n",
    "- `git pull` copies changes from a remote repository to a local repository."
   ]
  },
  {
   "cell_type": "markdown",
   "metadata": {
    "slideshow": {
     "slide_type": "slide"
    }
   },
   "source": [
    "# 6. Collaborating\n",
    "\n",
    "- *How can I use version control to collaborate with other people?*\n"
   ]
  },
  {
   "cell_type": "markdown",
   "metadata": {
    "slideshow": {
     "slide_type": "subslide"
    }
   },
   "source": [
    "### *Exercise*\n",
    "\n",
    "Working in pairs, add a colloborator on GitHub to your repo.\n",
    "\n",
    "Clone your partner's repo with `git clone`"
   ]
  },
  {
   "cell_type": "markdown",
   "metadata": {},
   "source": [
    "### A Basic Collaborative Workflow\n",
    "\n",
    "- update your local repo with `git pull origin master`,\n",
    "- make your changes and stage them with `git add`,\n",
    "- commit your changes with `git commit -m`, and\n",
    "- upload the changes to GitHub with `git push origin master`\n",
    "\n",
    "It is better to make many commits with smaller changes rather than of one commit with massive changes: small commits are easier to read and review. \n",
    "\n",
    "In practice, it is good to be sure that you have an updated version of the repository you are collaborating on. Remember to *pull* before you *push*."
   ]
  },
  {
   "cell_type": "markdown",
   "metadata": {},
   "source": [
    "### Keypoints\n",
    "- `git clone` copies a remote repository to create a local repository with a remote called origin automatically set up."
   ]
  },
  {
   "cell_type": "markdown",
   "metadata": {
    "slideshow": {
     "slide_type": "slide"
    }
   },
   "source": [
    "# 7. Conflicts\n",
    "\n",
    "- *What do I do when my changes conflict with someone else’s?*"
   ]
  },
  {
   "cell_type": "markdown",
   "metadata": {
    "slideshow": {
     "slide_type": "subslide"
    }
   },
   "source": [
    "### Changes by different people can lead to a conflict\n",
    "\n",
    "![](http://swcarpentry.github.io/git-novice/fig/conflict.svg)"
   ]
  },
  {
   "cell_type": "markdown",
   "metadata": {
    "slideshow": {
     "slide_type": "subslide"
    }
   },
   "source": [
    "### *Exercise*\n",
    "\n",
    "Resolve a conflict resulting from a merge"
   ]
  },
  {
   "cell_type": "markdown",
   "metadata": {
    "slideshow": {
     "slide_type": "subslide"
    }
   },
   "source": [
    "### Keypoints\n",
    "\n",
    "- Conflicts occur when two or more people change the same file(s) at the same time.\n",
    "- The version control system does not allow people to overwrite each other’s changes blindly, but highlights conflicts so that they can be resolved."
   ]
  },
  {
   "cell_type": "markdown",
   "metadata": {
    "slideshow": {
     "slide_type": "slide"
    }
   },
   "source": [
    "# 8. Next Steps\n",
    "\n",
    "- *Where to go from here?*\n",
    "\n",
    "\n",
    "1. Complete Software Carpentry git-novice [course](http://swcarpentry.github.io/git-novice)\n",
    "2. Code School has a free interactive course, [Try Git](https://try.github.io) \n",
    "3. Training resources from GitHub: https://services.github.com/resources/selfstudy/"
   ]
  }
 ],
 "metadata": {
  "celltoolbar": "Slideshow",
  "kernelspec": {
   "display_name": "Python 3",
   "language": "python",
   "name": "python3"
  },
  "language_info": {
   "codemirror_mode": {
    "name": "ipython",
    "version": 3
   },
   "file_extension": ".py",
   "mimetype": "text/x-python",
   "name": "python",
   "nbconvert_exporter": "python",
   "pygments_lexer": "ipython3",
   "version": "3.6.0"
  }
 },
 "nbformat": 4,
 "nbformat_minor": 2
}
